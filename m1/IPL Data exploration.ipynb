{
 "cells": [
  {
   "cell_type": "code",
   "execution_count": 52,
   "metadata": {},
   "outputs": [],
   "source": [
    "%config IPCompleter.greedy=True\n",
    "\n",
    "import pandas as pd"
   ]
  },
  {
   "cell_type": "code",
   "execution_count": null,
   "metadata": {},
   "outputs": [],
   "source": [
    "file_name = 'C:\\\\Users\\\\sgu194\\\\Desktop\\\\data\\\\ipl\\\\ipl-2017\\\\DIM_MATCH.csv'\n",
    "\n",
    "matches = pd.read_csv(file_name)\n",
    "matches.columns\n",
    "\n",
    "matches.head()\n",
    "matches.tail()\n",
    "\n",
    "#matches.info()\n",
    "# matches.describe()\n",
    "# matches[::20]\n",
    "# len(matches)"
   ]
  },
  {
   "cell_type": "code",
   "execution_count": null,
   "metadata": {},
   "outputs": [],
   "source": [
    "matches.columns\n",
    "\n",
    "#['Match_SK', 'match_id', 'Team1', 'Team2', 'match_date', 'Season_Year', \n",
    "#        'Venue_Name', 'City_Name', 'Country_Name', 'Toss_Winner',\n",
    "#        'match_winner', 'Toss_Name', 'Win_Type', 'Outcome_Type', 'ManOfMach',\n",
    "#        'Win_Margin', 'Country_id']\n",
    "\n",
    "\n",
    "df2 = matches[['Team1', 'City_Name']].head()\n",
    "# matches.Country_Name.head()\n",
    "\n",
    "# matches.shape\n",
    "matches.drop('Match_SK',axis=1)\n",
    "\n",
    "# matches[matches.Season_Year > 2016]\n",
    "\n",
    "matches.City_Name.unique()"
   ]
  },
  {
   "cell_type": "code",
   "execution_count": 67,
   "metadata": {},
   "outputs": [
    {
     "ename": "ModuleNotFoundError",
     "evalue": "No module named 'seaborn'",
     "output_type": "error",
     "traceback": [
      "\u001b[1;31m---------------------------------------------------------------------------\u001b[0m",
      "\u001b[1;31mModuleNotFoundError\u001b[0m                       Traceback (most recent call last)",
      "\u001b[1;32m<ipython-input-67-a84c0541e888>\u001b[0m in \u001b[0;36m<module>\u001b[1;34m()\u001b[0m\n\u001b[1;32m----> 1\u001b[1;33m \u001b[1;32mimport\u001b[0m \u001b[0mseaborn\u001b[0m \u001b[1;32mas\u001b[0m \u001b[0msns\u001b[0m\u001b[1;33m\u001b[0m\u001b[0m\n\u001b[0m",
      "\u001b[1;31mModuleNotFoundError\u001b[0m: No module named 'seaborn'"
     ]
    }
   ],
   "source": [
    "import seaborn as sns"
   ]
  }
 ],
 "metadata": {
  "kernelspec": {
   "display_name": "Python 3",
   "language": "python",
   "name": "python3"
  },
  "language_info": {
   "codemirror_mode": {
    "name": "ipython",
    "version": 3
   },
   "file_extension": ".py",
   "mimetype": "text/x-python",
   "name": "python",
   "nbconvert_exporter": "python",
   "pygments_lexer": "ipython3",
   "version": "3.6.1"
  }
 },
 "nbformat": 4,
 "nbformat_minor": 2
}
