{
 "cells": [
  {
   "cell_type": "markdown",
   "metadata": {},
   "source": [
    "## Defining variables"
   ]
  },
  {
   "cell_type": "code",
   "execution_count": null,
   "metadata": {},
   "outputs": [],
   "source": [
    "print(\"Hello to Magical world of Python\")\n",
    "\n",
    "int_val = 1  # An integer assignment\n",
    "type(int_val)\n",
    "int_val\n",
    "\n",
    "\n",
    "petrol_price = 78.95 #Define floats\n",
    "type(petrol_price)\n",
    "\n",
    "#Define Strings \n",
    "string_val = \"Harry Potter\"\n",
    "str_val2 = 'Harmayni'\n",
    "str_val3 = \"\"\" Ron is friend of Harry\n",
    "and Harmayani\n",
    "\"\"\"\n",
    "str_val3"
   ]
  },
  {
   "cell_type": "markdown",
   "metadata": {},
   "source": [
    "## Control Flow -- If statement"
   ]
  },
  {
   "cell_type": "code",
   "execution_count": null,
   "metadata": {},
   "outputs": [],
   "source": [
    "x = int(input(\"Please enter an integer: \"))\n",
    "\n",
    "if x > 0:\n",
    "    print(\"Hurray !! Number is positive\")\n",
    "elif x == 0:\n",
    "    print(\"Great !! you just discovered Zero\")\n",
    "else:\n",
    "    print(\"Woooh !! some negative\")\n",
    "\n",
    "\n"
   ]
  },
  {
   "cell_type": "markdown",
   "metadata": {},
   "source": [
    "## Loops -- for"
   ]
  },
  {
   "cell_type": "code",
   "execution_count": null,
   "metadata": {},
   "outputs": [],
   "source": [
    "for x in range(3):\n",
    "    print(x)\n",
    "    \n",
    "pets = ['dragon', 'phoenix', 'Grifin']\n",
    "\n",
    "for pet in pets:\n",
    "    print(pet, len(pet))\n",
    "    \n",
    "for i in range(len(pets)):\n",
    "    print(i, pets[i])\n",
    "\n",
    "        "
   ]
  },
  {
   "cell_type": "markdown",
   "metadata": {},
   "source": [
    "## Attempt Exercises"
   ]
  },
  {
   "cell_type": "markdown",
   "metadata": {},
   "source": [
    "### List"
   ]
  },
  {
   "cell_type": "code",
   "execution_count": 118,
   "metadata": {},
   "outputs": [
    {
     "data": {
      "text/plain": [
       "[-2, 0, 2, 4]"
      ]
     },
     "execution_count": 118,
     "metadata": {},
     "output_type": "execute_result"
    }
   ],
   "source": [
    "day_list = ['Mon', 'Tue','Wed','Thu','Fri','Sat','Sun' ] #create list \n",
    "type(day_list) # type of list \n",
    "day_list \n",
    "\n",
    "day_list[5]\n",
    "day_list[-1]\n",
    "day_list[4:5]\n",
    "day_list[4:-1]\n",
    "day_list[:]\n",
    "\n",
    "for day in day_list:\n",
    "    pass\n",
    "    #print(day)\n",
    "#--------------operations------------\n",
    "cubes = [1, 8, 27, 65, 125]\n",
    "cubes[3] = 64  # replace the wrong value\n",
    "\n",
    "cubes.append(216)  # add the cube of 6\n",
    "cubes.append(7**3)  # add the cube of 7\n",
    "cubes\n",
    "\n",
    "len(cubes)\n",
    "\n",
    "#--------------High Level operations------------\n",
    "squares = []\n",
    "for x in range(10):\n",
    "    squares.append(x**2)\n",
    "    \n",
    "squares = [x**2 for x in range(10)]\n",
    "squares = list(map(lambda x: x**2, range(10)))\n",
    "squares\n",
    "\n",
    "vector = [-4, -2, 0, 2, 4]\n",
    "[x for x in vector if x >= 0]\n",
    "\n",
    "del vector[0]\n",
    "vector"
   ]
  },
  {
   "cell_type": "markdown",
   "metadata": {},
   "source": [
    "### Tuples & Sets"
   ]
  },
  {
   "cell_type": "code",
   "execution_count": 130,
   "metadata": {},
   "outputs": [
    {
     "data": {
      "text/plain": [
       "set"
      ]
     },
     "execution_count": 130,
     "metadata": {},
     "output_type": "execute_result"
    }
   ],
   "source": [
    "t = 12345, 54321, 'hello!'\n",
    "t[0]\n",
    "t\n",
    "\n",
    "empty = ()\n",
    "singleton = 'hello',    # <-- note trailing comma\n",
    "len(singleton)\n",
    "singleton\n",
    "\n",
    "#----------------------------Sets--------------------------------\n",
    "basket = {'apple', 'orange', 'apple', 'pear', 'orange', 'banana'}\n",
    "'orange' in basket                 # fast membership testing\n",
    "empty_set = set()\n",
    "type(empty_set)"
   ]
  },
  {
   "cell_type": "markdown",
   "metadata": {},
   "source": [
    "### Dictionary"
   ]
  },
  {
   "cell_type": "code",
   "execution_count": 12,
   "metadata": {},
   "outputs": [
    {
     "name": "stdout",
     "output_type": "stream",
     "text": [
      "hive sql-engine\n",
      "spark processing-engin\n",
      "hdfs storage-solution\n"
     ]
    }
   ],
   "source": [
    "cities = {'delhi': 'Delhi', 'gurgaon': 'Haryana', 'noida' : 'UP'}\n",
    "cities['Jaipur'] = 'Rajasthan'\n",
    "\n",
    "cities\n",
    "del cities['delhi']\n",
    "sorted(cities)\n",
    "'delhi' in cities\n",
    "\n",
    "\n",
    "dict([('delhi', 4139), ('gurgaon', 4127), ('noida', 4098)])\n",
    "sqr = {x: x**2 for x in (2, 4, 6)}\n",
    "type(sqr)\n",
    "\n",
    "big_data = {'hive': 'sql-engine', 'spark': 'processing-engin', 'hdfs': 'storage-solution'}\n",
    "\n",
    "for k, v in big_data.items():\n",
    "    print(k, v)"
   ]
  },
  {
   "cell_type": "markdown",
   "metadata": {},
   "source": [
    "### Defining Functions"
   ]
  },
  {
   "cell_type": "code",
   "execution_count": 22,
   "metadata": {},
   "outputs": [
    {
     "name": "stdout",
     "output_type": "stream",
     "text": [
      "camel_case_to_lower_under_score\n"
     ]
    }
   ],
   "source": [
    "word = 'camelCaseToLowerUnderScore'\n",
    "\n",
    "def camelcase_to_underscore(word):\n",
    "    for index in range(len(word)):\n",
    "        char = word[index]\n",
    "        if char.isupper():\n",
    "            word = word.replace(char,'_' + char.lower())\n",
    "    return word\n",
    "\n",
    "print(camelcase_to_underscore(word))"
   ]
  }
 ],
 "metadata": {
  "kernelspec": {
   "display_name": "Python 3",
   "language": "python",
   "name": "python3"
  },
  "language_info": {
   "codemirror_mode": {
    "name": "ipython",
    "version": 3
   },
   "file_extension": ".py",
   "mimetype": "text/x-python",
   "name": "python",
   "nbconvert_exporter": "python",
   "pygments_lexer": "ipython3",
   "version": "3.6.1"
  }
 },
 "nbformat": 4,
 "nbformat_minor": 2
}
