{
 "cells": [
  {
   "cell_type": "code",
   "execution_count": 30,
   "metadata": {},
   "outputs": [],
   "source": [
    "%config IPCompleter.greedy=True\n",
    "import pandas as pd"
   ]
  },
  {
   "cell_type": "code",
   "execution_count": 2,
   "metadata": {},
   "outputs": [],
   "source": [
    "file_name = 'C:\\\\Users\\\\sgu194\\\\Desktop\\\\data\\\\ipl\\\\ipl-2017\\\\DIM_MATCH.csv'\n",
    "matches = pd.read_csv(file_name)\n",
    "# matches.columns\n",
    "\n",
    "# matches.head()\n",
    "# matches.tail()\n",
    "\n",
    "# matches.info()\n",
    "# matches.describe()\n",
    "# matches[::20]\n",
    "# len(matches)\n",
    "# matches.shape"
   ]
  },
  {
   "cell_type": "code",
   "execution_count": null,
   "metadata": {},
   "outputs": [],
   "source": [
    "# matches.columns\n",
    "\n",
    "#['Match_SK', 'match_id', 'Team1', 'Team2', 'match_date', 'Season_Year', \n",
    "#        'Venue_Name', 'City_Name', 'Country_Name', 'Toss_Winner',\n",
    "#        'match_winner', 'Toss_Name', 'Win_Type', 'Outcome_Type', 'ManOfMach',\n",
    "#        'Win_Margin', 'Country_id']\n",
    "\n",
    "\n",
    "# df2 = matches[['Team1', 'City_Name']].head()\n",
    "# matches.Country_Name.head()\n",
    "\n",
    "# matches.drop('Match_SK',axis=1)\n",
    "\n",
    "# matches[matches.Season_Year > 2016]\n",
    "\n",
    "# matches.City_Name.unique()\n",
    "matches.Win_Margin.unique()"
   ]
  },
  {
   "cell_type": "markdown",
   "metadata": {},
   "source": [
    "### Number of matches in each season ?"
   ]
  },
  {
   "cell_type": "code",
   "execution_count": null,
   "metadata": {},
   "outputs": [],
   "source": [
    "matches.Season_Year.value_counts()"
   ]
  },
  {
   "cell_type": "markdown",
   "metadata": {},
   "source": [
    "### Which city hosted higest number of matches ?"
   ]
  },
  {
   "cell_type": "code",
   "execution_count": null,
   "metadata": {},
   "outputs": [],
   "source": [
    "# matches.groupby('City_Name').agg({'Match_SK' : 'count' })\n",
    "ans1 = matches.groupby('City_Name')['Match_SK'].count()\n",
    "ans1.sort_values(ascending=False)"
   ]
  },
  {
   "cell_type": "markdown",
   "metadata": {},
   "source": [
    "### Find palyer who has been man of the match for most number of times in each year"
   ]
  },
  {
   "cell_type": "code",
   "execution_count": null,
   "metadata": {},
   "outputs": [],
   "source": [
    "ss1 = matches.groupby(['Season_Year','ManOfMach']).size().reset_index(name='cnt')\n",
    "ss2 = ss1.groupby('Season_Year')['cnt'].max().reset_index(name='cnt')\n",
    "ss1.merge(ss2, on=['Season_Year','cnt'])\n",
    "    \n",
    "# ss1.groupby('Season_Year')['cnt'].max()\n"
   ]
  },
  {
   "cell_type": "markdown",
   "metadata": {},
   "source": [
    "### what is day distribution of matches, match per day ?"
   ]
  },
  {
   "cell_type": "code",
   "execution_count": null,
   "metadata": {},
   "outputs": [],
   "source": [
    "matches['match_date'].value_counts().hist()"
   ]
  },
  {
   "cell_type": "code",
   "execution_count": null,
   "metadata": {},
   "outputs": [],
   "source": [
    "## Q2. what is relation of toss winning to winning matches for each team ?\n",
    "\n",
    "c1 = matches.Team1.value_counts().reset_index(name = 'cnt1')\n",
    "c2 = matches.Team2.value_counts().reset_index(name = 'cnt2')\n",
    "\n",
    "m1 = c1.merge(c2, on='index')\n",
    "m1['Total_match'] = m1['cnt1'] + m1['cnt2']\n",
    "m1.drop(columns=['cnt1','cnt2'], axis=1,inplace=True)\n",
    "\n",
    "matches[['Toss_Winner','match_winner']]\n",
    "\n",
    "tw = matches['Toss_Winner'].value_counts().reset_index(name = 'Toss_Won')\n",
    "mw = matches['match_winner'].value_counts().reset_index(name = 'Matches_Won')\n",
    "\n",
    "sum1 = tw.merge(mw,on='index').merge(m1,on='index')\n",
    "\n",
    "sum1['toss_percentage'] = sum1.Toss_Won/sum1.Total_match\n",
    "sum1['win_percentage'] = sum1.Matches_Won/sum1.Total_match\n",
    "\n",
    "sum1"
   ]
  },
  {
   "cell_type": "code",
   "execution_count": null,
   "metadata": {},
   "outputs": [],
   "source": [
    "### Q3. for each team find higest and narrowest winning margin by wicket and runns."
   ]
  },
  {
   "cell_type": "code",
   "execution_count": null,
   "metadata": {},
   "outputs": [],
   "source": [
    "##Find summry of team per stadium - like how many matches played, won, lost\n"
   ]
  },
  {
   "cell_type": "code",
   "execution_count": null,
   "metadata": {},
   "outputs": [],
   "source": [
    "import sys\n",
    "\n",
    "### what is winning ratio team on its home ground ?\n",
    "team_name = 'Kolkata Knight Riders'\n",
    "home_ground = 'Kolkata'\n",
    "\n",
    "hgm = matches[matches.City_Name == home_ground]\n",
    "kkr = hgm[(matches['Team1'] == team_name) | (matches['Team2'] == team_name) ]\n",
    "kkr['won'] = matches.apply(lambda row : 1 if row['match_winner'] == team_name else 0,axis=1 )\n",
    "\n",
    "kkr.count()"
   ]
  },
  {
   "cell_type": "code",
   "execution_count": 9,
   "metadata": {},
   "outputs": [],
   "source": [
    "import seaborn as sns\n",
    "import matplotlib.pyplot as plt\n",
    "\n",
    "%matplotlib inline"
   ]
  },
  {
   "cell_type": "code",
   "execution_count": 23,
   "metadata": {},
   "outputs": [
    {
     "name": "stderr",
     "output_type": "stream",
     "text": [
      "c:\\users\\sgu194\\appdata\\local\\programs\\python\\python36\\lib\\site-packages\\scipy\\stats\\stats.py:1713: FutureWarning: Using a non-tuple sequence for multidimensional indexing is deprecated; use `arr[tuple(seq)]` instead of `arr[seq]`. In the future this will be interpreted as an array index, `arr[np.array(seq)]`, which will result either in an error or a different result.\n",
      "  return np.add.reduce(sorted[indexer] * weights, axis=axis) / sumval\n"
     ]
    },
    {
     "data": {
      "image/png": "[encoded data removed]",
      "text/plain": [
       "<Figure size 432x288 with 1 Axes>"
      ]
     },
     "metadata": {
      "needs_background": "light"
     },
     "output_type": "display_data"
    }
   ],
   "source": [
    "m1 = matches.dropna()\n",
    "\n",
    "vis1 = sns.distplot(m1['Win_Margin'])"
   ]
  },
  {
   "cell_type": "code",
   "execution_count": 27,
   "metadata": {},
   "outputs": [
    {
     "data": {
      "image/png": "[encoded data removed]",
      "text/plain": [
       "<Figure size 432x288 with 1 Axes>"
      ]
     },
     "metadata": {
      "needs_background": "light"
     },
     "output_type": "display_data"
    }
   ],
   "source": [
    "vis1 = sns.distplot(m1['Win_Margin'],bins=10)"
   ]
  },
  {
   "cell_type": "code",
   "execution_count": null,
   "metadata": {},
   "outputs": [],
   "source": []
  }
 ],
 "metadata": {
  "kernelspec": {
   "display_name": "Python 3",
   "language": "python",
   "name": "python3"
  },
  "language_info": {
   "codemirror_mode": {
    "name": "ipython",
    "version": 3
   },
   "file_extension": ".py",
   "mimetype": "text/x-python",
   "name": "python",
   "nbconvert_exporter": "python",
   "pygments_lexer": "ipython3",
   "version": "3.6.1"
  }
 },
 "nbformat": 4,
 "nbformat_minor": 2
}
